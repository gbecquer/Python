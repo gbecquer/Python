{
 "cells": [
  {
   "cell_type": "markdown",
   "metadata": {},
   "source": [
    "## Notebook with Numpy & Pandas Code"
   ]
  },
  {
   "cell_type": "markdown",
   "metadata": {},
   "source": [
    "#### Numpy Essentials"
   ]
  },
  {
   "cell_type": "code",
   "execution_count": 1,
   "metadata": {},
   "outputs": [],
   "source": [
    "import numpy as np"
   ]
  },
  {
   "cell_type": "code",
   "execution_count": 4,
   "metadata": {},
   "outputs": [
    {
     "data": {
      "text/plain": [
       "array([[1, 2, 3],\n",
       "       [4, 5, 6]])"
      ]
     },
     "execution_count": 4,
     "metadata": {},
     "output_type": "execute_result"
    }
   ],
   "source": [
    "# np array\n",
    "np.array([1,3,5.5,6,7])\n",
    "\n",
    "# np multidimensional array\n",
    "np.array([[1,2,3],[4,5,6]])"
   ]
  },
  {
   "cell_type": "code",
   "execution_count": null,
   "metadata": {},
   "outputs": [],
   "source": [
    "# Create an array from 1st to 2nd number in 3th number steps\n",
    "np.arange(5, 20, 4)\n",
    "\n",
    "# Create an array of 1 of shape 3x4\n",
    "np.zeros(3,4)\n",
    "\n",
    "# Create an array of 1 of shape 3x4\n",
    "np.ones(3,4)\n",
    "\n",
    "# Create an empty array of shape 3x4\n",
    "np.empty(3,4)\n",
    "\n",
    "# Create a 2x2 identity matrix\n",
    "np.eye(2)\n",
    "\n",
    "# Create a array with random values of shape 2x2\n",
    "np.random.random(2,2)\n"
   ]
  }
 ],
 "metadata": {
  "kernelspec": {
   "display_name": "Python 3.8.3 ('base')",
   "language": "python",
   "name": "python3"
  },
  "language_info": {
   "codemirror_mode": {
    "name": "ipython",
    "version": 3
   },
   "file_extension": ".py",
   "mimetype": "text/x-python",
   "name": "python",
   "nbconvert_exporter": "python",
   "pygments_lexer": "ipython3",
   "version": "3.8.3"
  },
  "orig_nbformat": 4,
  "vscode": {
   "interpreter": {
    "hash": "b9181b24ef3e53db4bfc4e9af9efbcfb84a57342a9477c66f5d752a451ac5389"
   }
  }
 },
 "nbformat": 4,
 "nbformat_minor": 2
}
