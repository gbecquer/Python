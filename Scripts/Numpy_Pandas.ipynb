{
 "cells": [
  {
   "cell_type": "markdown",
   "metadata": {},
   "source": [
    "## Notebook with Numpy & Pandas Code"
   ]
  },
  {
   "cell_type": "markdown",
   "metadata": {},
   "source": [
    "#### Numpy Essentials"
   ]
  },
  {
   "cell_type": "code",
   "execution_count": 1,
   "metadata": {},
   "outputs": [],
   "source": [
    "import numpy as np"
   ]
  },
  {
   "cell_type": "code",
   "execution_count": 4,
   "metadata": {},
   "outputs": [
    {
     "data": {
      "text/plain": [
       "array([[1, 2, 3],\n",
       "       [4, 5, 6]])"
      ]
     },
     "execution_count": 4,
     "metadata": {},
     "output_type": "execute_result"
    }
   ],
   "source": [
    "# np array\n",
    "np.array([1,3,5.5,6,7])\n",
    "\n",
    "# np multidimensional array\n",
    "np.array([[1,2,3],[4,5,6]])"
   ]
  },
  {
   "cell_type": "code",
   "execution_count": 9,
   "metadata": {},
   "outputs": [
    {
     "data": {
      "text/plain": [
       "array([[0.37772664, 0.87448761],\n",
       "       [0.32060394, 0.37647756]])"
      ]
     },
     "execution_count": 9,
     "metadata": {},
     "output_type": "execute_result"
    }
   ],
   "source": [
    "# Create an array from 1st to 2nd number in 3th number steps\n",
    "np.arange(5, 20, 4)\n",
    "\n",
    "# Create an array of 1 of shape 3x4\n",
    "np.zeros((3,4))\n",
    "\n",
    "# Create an array of 1 of shape 3x4\n",
    "np.ones((3,4))\n",
    "\n",
    "# Create an empty array of shape 3x4\n",
    "np.empty((3,4))\n",
    "\n",
    "# Create a 2x2 identity matrix\n",
    "np.eye(2)\n",
    "\n",
    "# Create a array with random values of shape 2x2\n",
    "np.random.random((2,2))\n"
   ]
  },
  {
   "cell_type": "code",
   "execution_count": 11,
   "metadata": {},
   "outputs": [
    {
     "name": "stdout",
     "output_type": "stream",
     "text": [
      "(10, 10)\n",
      "2\n"
     ]
    },
    {
     "data": {
      "text/plain": [
       "array([[0.31590093, 0.88296248, 0.29834076, 0.47792088, 0.22021277,\n",
       "        0.43083243, 0.32332773, 0.6014744 , 0.83954072, 0.53469504],\n",
       "       [0.98661368, 0.72050014, 0.94183973, 0.60984815, 0.75309968,\n",
       "        0.43084193, 0.73379182, 0.04383821, 0.32194236, 0.31764994],\n",
       "       [0.86911461, 0.33706378, 0.43637506, 0.25265759, 0.85325715,\n",
       "        0.08853235, 0.39228383, 0.67986702, 0.92591115, 0.19810425],\n",
       "       [0.09818502, 0.10006327, 0.57123041, 0.97770748, 0.74566653,\n",
       "        0.26936626, 0.92461425, 0.45842707, 0.24790842, 0.34789535],\n",
       "       [0.91932628, 0.53824107, 0.43571816, 0.85022889, 0.5157165 ,\n",
       "        0.57166482, 0.25167209, 0.93203174, 0.29826231, 0.77231623],\n",
       "       [0.56276014, 0.12381335, 0.36964946, 0.61692354, 0.37512099,\n",
       "        0.60294626, 0.58877438, 0.69823059, 0.00558368, 0.15525977],\n",
       "       [0.14991943, 0.09476348, 0.03134874, 0.63396863, 0.90299208,\n",
       "        0.79841272, 0.94502831, 0.89007335, 0.62127216, 0.30240407],\n",
       "       [0.54129982, 0.32665266, 0.49745145, 0.66961318, 0.75461691,\n",
       "        0.73972753, 0.28350613, 0.98101991, 0.39008136, 0.82659843],\n",
       "       [0.30800813, 0.62654053, 0.06273504, 0.5673087 , 0.56330711,\n",
       "        0.09203907, 0.50950012, 0.21639183, 0.23766415, 0.66292653],\n",
       "       [0.63053932, 0.89094559, 0.29827419, 0.24193191, 0.57255671,\n",
       "        0.92368997, 0.29204771, 0.87600506, 0.65081904, 0.21566162]])"
      ]
     },
     "execution_count": 11,
     "metadata": {},
     "output_type": "execute_result"
    }
   ],
   "source": [
    "# Shape & dimensions of an array\n",
    "\n",
    "a = np.random.rand(10,10)\n",
    "print(a.shape)\n",
    "print(a.ndim)\n",
    "a"
   ]
  },
  {
   "cell_type": "code",
   "execution_count": null,
   "metadata": {},
   "outputs": [],
   "source": []
  }
 ],
 "metadata": {
  "kernelspec": {
   "display_name": "Python 3.8.3 ('base')",
   "language": "python",
   "name": "python3"
  },
  "language_info": {
   "codemirror_mode": {
    "name": "ipython",
    "version": 3
   },
   "file_extension": ".py",
   "mimetype": "text/x-python",
   "name": "python",
   "nbconvert_exporter": "python",
   "pygments_lexer": "ipython3",
   "version": "3.8.3"
  },
  "orig_nbformat": 4,
  "vscode": {
   "interpreter": {
    "hash": "b9181b24ef3e53db4bfc4e9af9efbcfb84a57342a9477c66f5d752a451ac5389"
   }
  }
 },
 "nbformat": 4,
 "nbformat_minor": 2
}
