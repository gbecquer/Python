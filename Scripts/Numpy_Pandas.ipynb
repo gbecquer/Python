{
 "cells": [
  {
   "cell_type": "markdown",
   "metadata": {},
   "source": [
    "## Notebook with Numpy & Pandas Code"
   ]
  },
  {
   "cell_type": "markdown",
   "metadata": {},
   "source": [
    "#### Numpy Essentials"
   ]
  },
  {
   "cell_type": "code",
   "execution_count": 1,
   "metadata": {},
   "outputs": [],
   "source": [
    "import numpy as np"
   ]
  },
  {
   "cell_type": "code",
   "execution_count": 4,
   "metadata": {},
   "outputs": [
    {
     "data": {
      "text/plain": [
       "array([[1, 2, 3],\n",
       "       [4, 5, 6]])"
      ]
     },
     "execution_count": 4,
     "metadata": {},
     "output_type": "execute_result"
    }
   ],
   "source": [
    "# np array\n",
    "np.array([1,3,5.5,6,7])\n",
    "\n",
    "# np multidimensional array\n",
    "np.array([[1,2,3],[4,5,6]])"
   ]
  },
  {
   "cell_type": "code",
   "execution_count": 9,
   "metadata": {},
   "outputs": [
    {
     "data": {
      "text/plain": [
       "array([[0.37772664, 0.87448761],\n",
       "       [0.32060394, 0.37647756]])"
      ]
     },
     "execution_count": 9,
     "metadata": {},
     "output_type": "execute_result"
    }
   ],
   "source": [
    "# Create an array from 1st to 2nd number in 3th number steps\n",
    "np.arange(5, 20, 4)\n",
    "\n",
    "# Create an array of 1 of shape 3x4\n",
    "np.zeros((3,4))\n",
    "\n",
    "# Create an array of 1 of shape 3x4\n",
    "np.ones((3,4))\n",
    "\n",
    "# Create an empty array of shape 3x4\n",
    "np.empty((3,4))\n",
    "\n",
    "# Create a 2x2 identity matrix\n",
    "np.eye(2)\n",
    "\n",
    "# Create a array with random values of shape 2x2\n",
    "np.random.random((2,2))\n"
   ]
  },
  {
   "cell_type": "code",
   "execution_count": 20,
   "metadata": {},
   "outputs": [
    {
     "name": "stdout",
     "output_type": "stream",
     "text": [
      "[[0.75060039 0.07483641 0.32571265 0.90447724 0.3512478  0.62979013\n",
      "  0.48282627 0.20509016 0.02174854 0.00292573]\n",
      " [0.13096543 0.66976547 0.67773797 0.41762642 0.50413627 0.06132603\n",
      "  0.454008   0.18483481 0.21905377 0.2010633 ]\n",
      " [0.74483712 0.15233374 0.05598104 0.62887318 0.12023736 0.3509271\n",
      "  0.244601   0.71598335 0.82738071 0.39951381]\n",
      " [0.87467773 0.71907229 0.2886856  0.45026618 0.21272322 0.45593504\n",
      "  0.05901474 0.70643365 0.06284881 0.56530373]\n",
      " [0.67693722 0.5978867  0.88565261 0.08235547 0.84528221 0.16398301\n",
      "  0.71859875 0.94280674 0.86397446 0.4348051 ]\n",
      " [0.68369417 0.80112976 0.01568457 0.91371429 0.16889095 0.22395579\n",
      "  0.80432812 0.30173236 0.01089158 0.26025034]\n",
      " [0.22383743 0.63633181 0.72542202 0.81564259 0.7754185  0.29762183\n",
      "  0.00238837 0.71181811 0.44044357 0.88476701]\n",
      " [0.13747948 0.36570045 0.9341909  0.67300634 0.58925742 0.60070942\n",
      "  0.17953339 0.4443199  0.63273935 0.14692187]\n",
      " [0.61506062 0.4878002  0.36596903 0.37332464 0.00937709 0.65393544\n",
      "  0.00923572 0.09077429 0.54417981 0.57632565]\n",
      " [0.64326885 0.18613841 0.36665347 0.06340489 0.57928655 0.63748084\n",
      "  0.59786877 0.17969706 0.55182636 0.33267405]]\n",
      "(10, 10)\n",
      "2\n",
      "10\n",
      "float64\n",
      "100\n",
      "<U32\n"
     ]
    }
   ],
   "source": [
    "# Common attributes of an array\n",
    "\n",
    "a = np.random.rand(10,10)\n",
    "print(a)\n",
    "print(a.shape)\n",
    "print(a.ndim)\n",
    "print(len(a))\n",
    "print(a.dtype)\n",
    "print(a.size)\n",
    "\n",
    "\n",
    "# For changing array type\n",
    "\n",
    "a = a.astype(str)\n",
    "print(a.dtype)"
   ]
  },
  {
   "cell_type": "code",
   "execution_count": null,
   "metadata": {},
   "outputs": [],
   "source": []
  },
  {
   "cell_type": "markdown",
   "metadata": {},
   "source": [
    "#### Pandas Essentials"
   ]
  },
  {
   "cell_type": "code",
   "execution_count": null,
   "metadata": {},
   "outputs": [],
   "source": []
  }
 ],
 "metadata": {
  "kernelspec": {
   "display_name": "Python 3.8.3 ('base')",
   "language": "python",
   "name": "python3"
  },
  "language_info": {
   "codemirror_mode": {
    "name": "ipython",
    "version": 3
   },
   "file_extension": ".py",
   "mimetype": "text/x-python",
   "name": "python",
   "nbconvert_exporter": "python",
   "pygments_lexer": "ipython3",
   "version": "3.8.3"
  },
  "orig_nbformat": 4,
  "vscode": {
   "interpreter": {
    "hash": "b9181b24ef3e53db4bfc4e9af9efbcfb84a57342a9477c66f5d752a451ac5389"
   }
  }
 },
 "nbformat": 4,
 "nbformat_minor": 2
}
